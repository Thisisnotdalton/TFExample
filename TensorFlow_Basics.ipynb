{
 "cells": [
  {
   "cell_type": "markdown",
   "metadata": {},
   "source": [
    "<h1>Getting started with TensorFlow</h1>\n",
    "<p>The following notebook assumes limited to no knowledge of TensorFlow, but it will require basic Python literacy and for the TensorFlow, Numpy, and Matplotlib modules to be installed (They should be unless you maliciously uninstalled them.)</p>"
   ]
  },
  {
   "cell_type": "code",
   "execution_count": 1,
   "metadata": {},
   "outputs": [
    {
     "name": "stderr",
     "output_type": "stream",
     "text": [
      "/home/student/anaconda3/lib/python3.6/importlib/_bootstrap.py:219: RuntimeWarning: compiletime version 3.5 of module 'tensorflow.python.framework.fast_tensor_util' does not match runtime version 3.6\n",
      "  return f(*args, **kwds)\n"
     ]
    }
   ],
   "source": [
    "import tensorflow as tf\n",
    "import numpy as np"
   ]
  },
  {
   "cell_type": "markdown",
   "metadata": {},
   "source": [
    "<h2>Lesson Goals:</h2>\n",
    "<ol>\n",
    "    <li>Understanding Machine Learning Models as Function Approximators.</li>\n",
    "    <li>Defining ML Models in TensorFlow</li>\n",
    "</ol>\n",
    "<a name=\"FunctionApproximator\"></a>\n",
    "<h3>Understanding Machine Learning Models as Function Approximators</h3>\n",
    "<p>In general, most ML models are made with a very simple purpose: to produce 'intelligent' output for a given problem. This is an over simplified way of thinking of things, but it reveals some of our key goals: we want to make a model which produces output we like based on a set of input(s). In this sense, we can imagine our ML model as a universal function approximator: something which mimics the output we would like given a set of examples. For this lesson, we will start by loading a set of data and making a model which can accurately predict values for our unknown function.</p>\n",
    "<h3>Loading the data</h3>\n",
    "<p>We begin by using Python's pickle module to load the binary data file containing our unknown function's input and output examples.</p>"
   ]
  },
  {
   "cell_type": "code",
   "execution_count": 52,
   "metadata": {},
   "outputs": [
    {
     "name": "stdout",
     "output_type": "stream",
     "text": [
      "Loaded data from data.p.\n",
      "Data:{'inputs': array([ 27.25,  37.25,   8.75,  43.75,  32.75,  16.5 ,  49.75,   7.5 ,\n",
      "        45.25,   4.75,  41.25,  39.  ,  21.25,  48.5 ,   2.25,  33.25,\n",
      "        27.25,  12.  ,  32.25,  42.75,  25.75,  17.75,  12.25,  49.75,\n",
      "        33.  ,  27.75,   4.5 ,   6.25,   1.  ,  16.  ,  38.75,   8.75,\n",
      "        38.75,  15.75,  36.25,   2.25,  27.  ,   9.75,  36.25,  38.  ,\n",
      "        45.25,  42.75,  47.75,   1.  ,  12.75,  21.25,  10.25,  27.5 ,\n",
      "        21.5 ,  38.25,  38.75,  28.25,  37.5 ,  47.5 ,  50.  ,  42.25,\n",
      "        11.  ,   6.25,  39.75,   9.75,  48.25,  35.5 ,   0.  ,  32.5 ,\n",
      "         3.75,  28.75,  13.5 ,  41.75,  34.75,  50.  ,  48.75,  43.75,\n",
      "        12.  ,  12.  ,   0.25,  37.  ,  25.5 ,  35.75,  48.75,  32.75,\n",
      "        31.5 ,   1.25,  38.  ,  18.  ,   1.5 ,  27.75,  10.5 ,  30.25,\n",
      "        16.  ,   9.75,  16.5 ,  50.  ,   1.25,  10.75,  12.5 ,  29.25,\n",
      "        24.5 ,  44.5 ,  39.  ,  38.75]), 'outputs': array([-14.16095605,  33.55603166,  -6.83239973,  42.57488059,\n",
      "         7.68046934, -11.58955145,  43.28523595,   2.59976488,\n",
      "        13.505953  ,   0.17861023, -37.84280833,  10.39907436,\n",
      "       -15.67598903,  -9.38274232,  -1.41339065,  -8.65318477,\n",
      "       -14.16095605,  10.1262475 ,  21.66762149,  14.19606982,\n",
      "        20.99830479,   8.05835521,  11.64204288,  43.28523595,\n",
      "        -0.43813266, -24.02199886,  -0.9485811 ,   6.24655886,\n",
      "         0.54030231, -15.32255169,  19.2510172 ,  -6.83239973,\n",
      "        19.2510172 , -15.73608624,   4.40018474,  -1.41339065,\n",
      "        -7.88774784,  -9.23890309,   4.40018474,  36.29279847,\n",
      "        13.505953  ,  14.19606982, -38.692448  ,   0.54030231,\n",
      "        12.53563995, -15.67598903,  -6.95353697, -19.65939164,\n",
      "       -18.95852214,  32.59129338,  19.2510172 , -28.24163647,\n",
      "        36.75909903, -44.17976967,  48.24830142,  -6.7937865 ,\n",
      "         0.04868268,   6.24655886, -18.3589599 ,  -9.23890309,\n",
      "       -20.75592239, -20.86628988,   0.        ,  15.20128481,\n",
      "        -3.07709759, -25.55840164,   8.03142895, -25.64710015,\n",
      "       -34.108261  ,  48.24830142,   2.69517627,  42.57488059,\n",
      "        10.1262475 ,  10.1262475 ,   0.24222811,  28.32031992,\n",
      "        23.79953536, -13.20446354,   2.69517627,   7.68046934,\n",
      "        31.38873909,   0.39415295,  36.29279847,  11.88570075,\n",
      "         0.1061058 , -24.02199886,  -4.99313774,  11.91544722,\n",
      "       -15.32255169,  -9.23890309, -11.58955145,  48.24830142,\n",
      "         0.39415295,  -2.61346929,  12.47247849, -16.39803503,\n",
      "        19.7570326 ,  38.66864423,  10.39907436,  19.2510172 ])}\n"
     ]
    }
   ],
   "source": [
    "import pickle\n",
    "file_name = 'data.p'\n",
    "data = None\n",
    "with open(file_name, 'rb') as out_file:\n",
    "    data = pickle.load(out_file)\n",
    "if data is not None:\n",
    "    print('Loaded data from {}.\\nData:{}'.format(file_name, data))"
   ]
  },
  {
   "cell_type": "markdown",
   "metadata": {},
   "source": [
    "<p>The previous code should print out the data for our inputs and outputs, but it would probably be helpful to display the data on a graph so we can get a better idea of what kind of function we are trying to model. The following code plots our data as a series of red points.</p>"
   ]
  },
  {
   "cell_type": "code",
   "execution_count": 53,
   "metadata": {},
   "outputs": [
    {
     "data": {
      "image/png": "[encoded data removed]",
      "text/plain": [
       "<matplotlib.figure.Figure at 0x7f87706dbcc0>"
      ]
     },
     "metadata": {},
     "output_type": "display_data"
    }
   ],
   "source": [
    "import matplotlib.pyplot as plt\n",
    "plt.plot(data['inputs'], data['outputs'], 'ro')\n",
    "plt.show()"
   ]
  },
  {
   "cell_type": "markdown",
   "metadata": {},
   "source": [
    "<p>Since we have a set of input/output examples showing the expected output of our model, we could classify this ML problem as a <i>supervised learning</i> problem. In this case, we know that the output of our model should closely match that of the graph above.</p>"
   ]
  },
  {
   "cell_type": "markdown",
   "metadata": {},
   "source": [
    "<a name=\"Reset\"></a>\n",
    "<h2>Resetting the TensorFlow graph.</h2>\n",
    "<p>The following code resets the TensorFlow graph. This is typically run before creating your networks to ensure that there are no duplicate tensors.</p>"
   ]
  },
  {
   "cell_type": "code",
   "execution_count": 2,
   "metadata": {
    "collapsed": true
   },
   "outputs": [],
   "source": [
    "tf.reset_default_graph()"
   ]
  },
  {
   "cell_type": "code",
   "execution_count": null,
   "metadata": {
    "collapsed": true
   },
   "outputs": [],
   "source": []
  }
 ],
 "metadata": {
  "kernelspec": {
   "display_name": "Python 3",
   "language": "python",
   "name": "python3"
  },
  "language_info": {
   "codemirror_mode": {
    "name": "ipython",
    "version": 3
   },
   "file_extension": ".py",
   "mimetype": "text/x-python",
   "name": "python",
   "nbconvert_exporter": "python",
   "pygments_lexer": "ipython3",
   "version": "3.6.3"
  }
 },
 "nbformat": 4,
 "nbformat_minor": 2
}
