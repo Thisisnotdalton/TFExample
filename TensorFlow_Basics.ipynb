{
 "cells": [
  {
   "cell_type": "markdown",
   "metadata": {},
   "source": [
    "<h1>Getting started with TensorFlow</h1>\n",
    "<p>The following notebook assumes limited to no knowledge of TensorFlow, but it will require basic Python literacy and for the TensorFlow, Numpy, and Matplotlib modules to be installed (They should be unless you maliciously uninstalled them.)</p>"
   ]
  },
  {
   "cell_type": "code",
   "execution_count": 1,
   "metadata": {},
   "outputs": [],
   "source": [
    "import tensorflow as tf\n",
    "from tensorflow import keras\n",
    "from tensorflow.keras import layers\n",
    "import numpy as np"
   ]
  },
  {
   "cell_type": "markdown",
   "metadata": {},
   "source": [
    "<h2>Lesson Goals:</h2>\n",
    "<ol>\n",
    "    <li>Understanding Machine Learning Models as Function Approximators.</li>\n",
    "    <li>Defining ML Models in TensorFlow.</li>\n",
    "    <li>Training ML Models.</li>\n",
    "</ol>\n",
    "<a name=\"FunctionApproximator\"></a>\n",
    "<h3>Understanding Machine Learning Models as Function Approximators</h3>\n",
    "<p>In general, most ML models are made with a very simple purpose: to produce 'intelligent' output for a given problem. This is an over simplified way of thinking of things, but it reveals some of our key goals: we want to make a model which produces output we like based on a set of input(s). In this sense, we can imagine our ML model as a universal function approximator: something which mimics the output we would like given a set of examples. For this lesson, we will start by loading a set of data and making a model which can accurately predict values for our unknown function.</p>\n",
    "<h3>Loading the data</h3>\n",
    "<p>We begin by using Python's pickle module to load the binary data file containing our unknown function's input and output examples.</p>"
   ]
  },
  {
   "cell_type": "code",
   "execution_count": 2,
   "metadata": {},
   "outputs": [
    {
     "name": "stdout",
     "output_type": "stream",
     "text": [
      "Loaded data from data.p.\n",
      "Data:{'inputs': array([27.25, 37.25,  8.75, 43.75, 32.75, 16.5 , 49.75,  7.5 , 45.25,\n",
      "        4.75, 41.25, 39.  , 21.25, 48.5 ,  2.25, 33.25, 27.25, 12.  ,\n",
      "       32.25, 42.75, 25.75, 17.75, 12.25, 49.75, 33.  , 27.75,  4.5 ,\n",
      "        6.25,  1.  , 16.  , 38.75,  8.75, 38.75, 15.75, 36.25,  2.25,\n",
      "       27.  ,  9.75, 36.25, 38.  , 45.25, 42.75, 47.75,  1.  , 12.75,\n",
      "       21.25, 10.25, 27.5 , 21.5 , 38.25, 38.75, 28.25, 37.5 , 47.5 ,\n",
      "       50.  , 42.25, 11.  ,  6.25, 39.75,  9.75, 48.25, 35.5 ,  0.  ,\n",
      "       32.5 ,  3.75, 28.75, 13.5 , 41.75, 34.75, 50.  , 48.75, 43.75,\n",
      "       12.  , 12.  ,  0.25, 37.  , 25.5 , 35.75, 48.75, 32.75, 31.5 ,\n",
      "        1.25, 38.  , 18.  ,  1.5 , 27.75, 10.5 , 30.25, 16.  ,  9.75,\n",
      "       16.5 , 50.  ,  1.25, 10.75, 12.5 , 29.25, 24.5 , 44.5 , 39.  ,\n",
      "       38.75]), 'outputs': array([-14.16095605,  33.55603166,  -6.83239973,  42.57488059,\n",
      "         7.68046934, -11.58955145,  43.28523595,   2.59976488,\n",
      "        13.505953  ,   0.17861023, -37.84280833,  10.39907436,\n",
      "       -15.67598903,  -9.38274232,  -1.41339065,  -8.65318477,\n",
      "       -14.16095605,  10.1262475 ,  21.66762149,  14.19606982,\n",
      "        20.99830479,   8.05835521,  11.64204288,  43.28523595,\n",
      "        -0.43813266, -24.02199886,  -0.9485811 ,   6.24655886,\n",
      "         0.54030231, -15.32255169,  19.2510172 ,  -6.83239973,\n",
      "        19.2510172 , -15.73608624,   4.40018474,  -1.41339065,\n",
      "        -7.88774784,  -9.23890309,   4.40018474,  36.29279847,\n",
      "        13.505953  ,  14.19606982, -38.692448  ,   0.54030231,\n",
      "        12.53563995, -15.67598903,  -6.95353697, -19.65939164,\n",
      "       -18.95852214,  32.59129338,  19.2510172 , -28.24163647,\n",
      "        36.75909903, -44.17976967,  48.24830142,  -6.7937865 ,\n",
      "         0.04868268,   6.24655886, -18.3589599 ,  -9.23890309,\n",
      "       -20.75592239, -20.86628988,   0.        ,  15.20128481,\n",
      "        -3.07709759, -25.55840164,   8.03142895, -25.64710015,\n",
      "       -34.108261  ,  48.24830142,   2.69517627,  42.57488059,\n",
      "        10.1262475 ,  10.1262475 ,   0.24222811,  28.32031992,\n",
      "        23.79953536, -13.20446354,   2.69517627,   7.68046934,\n",
      "        31.38873909,   0.39415295,  36.29279847,  11.88570075,\n",
      "         0.1061058 , -24.02199886,  -4.99313774,  11.91544722,\n",
      "       -15.32255169,  -9.23890309, -11.58955145,  48.24830142,\n",
      "         0.39415295,  -2.61346929,  12.47247849, -16.39803503,\n",
      "        19.7570326 ,  38.66864423,  10.39907436,  19.2510172 ])}\n"
     ]
    }
   ],
   "source": [
    "import pickle\n",
    "file_name = 'data.p'\n",
    "data = None\n",
    "with open(file_name, 'rb') as out_file:\n",
    "    data = pickle.load(out_file)\n",
    "if data is not None:\n",
    "    print('Loaded data from {}.\\nData:{}'.format(file_name, data))"
   ]
  },
  {
   "cell_type": "markdown",
   "metadata": {},
   "source": [
    "<p>The previous code should print out the data for our inputs and outputs, but it would probably be helpful to display the data on a graph so we can get a better idea of what kind of function we are trying to model. The following code plots our data as a series of red points.</p>"
   ]
  },
  {
   "cell_type": "code",
   "execution_count": 3,
   "metadata": {},
   "outputs": [
    {
     "data": {
      "image/png": "[encoded data removed]",
      "text/plain": [
       "<Figure size 432x288 with 1 Axes>"
      ]
     },
     "metadata": {
      "needs_background": "light"
     },
     "output_type": "display_data"
    }
   ],
   "source": [
    "%matplotlib inline\n",
    "import matplotlib.pyplot as plt\n",
    "plt.plot(data['inputs'], data['outputs'], 'ro')\n",
    "plt.show()"
   ]
  },
  {
   "cell_type": "markdown",
   "metadata": {},
   "source": [
    "<p>Since we have a set of input/output examples showing the expected output of our model, we could classify this ML problem as a <i>supervised learning</i> problem. In this case, we know that the output of our model should closely match that of the graph above. In order to determine which models we use to approximate this function are better, we will need to define a loss function to quantify how far off our model is. For continuous, regression type problems like this, a common loss function is to average the squares of the differences between the true value (denoted $y$) and the approximated value (denoted $\\hat{y}$).</p>\n",
    "$$loss=\\frac{1}{n}\\sum_0^n{(y_i-\\hat{y_i})^2}$$\n",
    "<p>This is often referred to as the Mean Squared Error (MSE).</p>"
   ]
  },
  {
   "cell_type": "code",
   "execution_count": 4,
   "metadata": {},
   "outputs": [],
   "source": [
    "def MSE(ys,ys_approx):\n",
    "    loss = 0\n",
    "    for y, y_approx in zip(ys, ys_approx):\n",
    "        loss += (y - y_approx) ** 2\n",
    "    return loss/len(ys)"
   ]
  },
  {
   "cell_type": "markdown",
   "metadata": {},
   "source": [
    "<h3>Linear Approximation</h3>\n",
    "<p>We can try simply approximating our model using the slope-intercept formula:</p>\n",
    "$$y = m*x + b$$\n",
    "<p>Try to find best line of fit possible (lowest loss). Do not spend more than 5 minutes on this portion.</p>"
   ]
  },
  {
   "cell_type": "code",
   "execution_count": 5,
   "metadata": {},
   "outputs": [
    {
     "name": "stdout",
     "output_type": "stream",
     "text": [
      "Loss for function approximation:  1568.109186105218\n"
     ]
    },
    {
     "data": {
      "image/png": "[encoded data removed]",
      "text/plain": [
       "<Figure size 432x288 with 1 Axes>"
      ]
     },
     "metadata": {
      "needs_background": "light"
     },
     "output_type": "display_data"
    }
   ],
   "source": [
    "m = -1\n",
    "b = 3\n",
    "\n",
    "y = lambda x: m * x + b\n",
    "print('Loss for function approximation: ', MSE(data['outputs'], y(data['inputs'])))\n",
    "\n",
    "plt.plot(data['inputs'], y(data['inputs']), 'b-')\n",
    "plt.plot(data['inputs'], data['outputs'], 'ro')\n",
    "plt.show()"
   ]
  },
  {
   "cell_type": "markdown",
   "metadata": {},
   "source": [
    "<p>We may  have managed to find a line which works, but in practice, we do not want to have to figure out the ideal values for $m$ or $b$. This is what we have ML and gradient descent for. Next, we will set up a simple linear approximator which we will train with TensorFlow. The following code begins by reformating our data so that we have 100 individual elements that are converted to 32 bit floats. For this exercise, we will treat each x,y pair as its own separate example for our model to train on.</p>"
   ]
  },
  {
   "cell_type": "code",
   "execution_count": 6,
   "metadata": {},
   "outputs": [],
   "source": [
    "# Format the data to a consistent shape for TensorFlow\n",
    "keras_inputs = np.expand_dims(data['inputs'], axis=-1).astype(np.float32)\n",
    "keras_outputs = np.expand_dims(data['outputs'], axis=-1).astype(np.float32)\n",
    "# Now the shape of our data is (100, 1) instead of (100).\n",
    "# We can treat each individual element as its own example\n",
    "# to train our Machine Learning model."
   ]
  },
  {
   "cell_type": "markdown",
   "metadata": {},
   "source": [
    "<p>Next, we create our actual TensorFlow model using the TensorFlow.keras API. This simplifies some of the code we have to write by hand so we can focus more on the Machine Learning aspects of the problem. We start by creating a sequential model  which means that the layers we add feed their outputs as the inputs of the next layer. Here we only add one layer with a single output and no activation function. This effectively gives us a linear approximator like what we made by hand previously.</p>"
   ]
  },
  {
   "cell_type": "code",
   "execution_count": 7,
   "metadata": {},
   "outputs": [
    {
     "name": "stdout",
     "output_type": "stream",
     "text": [
      "WARNING:tensorflow:From c:\\users\\dalton\\pycharmprojects\\tfexample\\venv\\lib\\site-packages\\tensorflow\\python\\ops\\resource_variable_ops.py:435: colocate_with (from tensorflow.python.framework.ops) is deprecated and will be removed in a future version.\n",
      "Instructions for updating:\n",
      "Colocations handled automatically by placer.\n"
     ]
    }
   ],
   "source": [
    "model = keras.Sequential()\n",
    "model.add(layers.Dense(1, input_shape=(1,), activation=None))"
   ]
  },
  {
   "cell_type": "markdown",
   "metadata": {},
   "source": [
    "<p>With our model created, we can now fetch what values it predicted for our inputs by calling model.predict. We then plot the data below.</p>"
   ]
  },
  {
   "cell_type": "code",
   "execution_count": 8,
   "metadata": {},
   "outputs": [
    {
     "data": {
      "image/png": "[encoded data removed]",
      "text/plain": [
       "<Figure size 432x288 with 1 Axes>"
      ]
     },
     "metadata": {
      "needs_background": "light"
     },
     "output_type": "display_data"
    }
   ],
   "source": [
    "results = model.predict(keras_inputs)\n",
    "plt.plot(data['inputs'], results[:,0], 'b-')\n",
    "plt.plot(data['inputs'], data['outputs'], 'ro')\n",
    "plt.show()"
   ]
  },
  {
   "cell_type": "markdown",
   "metadata": {},
   "source": [
    "<p>That wasn't too bad, but we still want to see how good or bad our model predicts the data. To do that, we need to compile our model and tell it what metrics it uses to assess its performance. Additionally, when we compile the model, we specify an optimizer. The optimizer serves to calculate how loss determines what variables need to change with respect to our model's performance. We will come back and revisit the specifics of the optimizer later.</p>"
   ]
  },
  {
   "cell_type": "code",
   "execution_count": 9,
   "metadata": {},
   "outputs": [
    {
     "name": "stdout",
     "output_type": "stream",
     "text": [
      "WARNING:tensorflow:From c:\\users\\dalton\\pycharmprojects\\tfexample\\venv\\lib\\site-packages\\tensorflow\\python\\keras\\utils\\losses_utils.py:170: to_float (from tensorflow.python.ops.math_ops) is deprecated and will be removed in a future version.\n",
      "Instructions for updating:\n",
      "Use tf.cast instead.\n",
      "Mean Squared Error for this model: 2530.71046875\n"
     ]
    }
   ],
   "source": [
    "model.compile(loss='mean_squared_error', optimizer=keras.optimizers.SGD(lr=0.000001))\n",
    "loss = model.evaluate(keras_inputs, keras_outputs, verbose=0)\n",
    "print('Mean Squared Error for this model:', loss)"
   ]
  },
  {
   "cell_type": "markdown",
   "metadata": {},
   "source": [
    "<p>Now that we can user TensorFlow to calculate the losses of our model, we will try to train our model to minimize this loss function and find the ideal values of $m$ and $b$. The TensorFlow Keras API makes this pretty simple. All we need to do (after we have compiled our model) is to call model.fit with our training inputs and outputs. We can additionally set how many epochs our model trains for. The number of epochs controls how many times the model trains over the whole data set. Let's see what the results are after we train the model for 1 epoch.</p>"
   ]
  },
  {
   "cell_type": "code",
   "execution_count": 10,
   "metadata": {},
   "outputs": [
    {
     "name": "stdout",
     "output_type": "stream",
     "text": [
      "WARNING:tensorflow:From c:\\users\\dalton\\pycharmprojects\\tfexample\\venv\\lib\\site-packages\\tensorflow\\python\\ops\\math_ops.py:3066: to_int32 (from tensorflow.python.ops.math_ops) is deprecated and will be removed in a future version.\n",
      "Instructions for updating:\n",
      "Use tf.cast instead.\n",
      "Mean Squared Error for this model: 875.3626708984375\n"
     ]
    }
   ],
   "source": [
    "model.fit(keras_inputs, keras_outputs, epochs=100, batch_size=30, verbose=0)\n",
    "loss = model.evaluate(keras_inputs, keras_outputs, verbose=0)\n",
    "print('Mean Squared Error for this model:', loss)"
   ]
  },
  {
   "cell_type": "markdown",
   "metadata": {},
   "source": [
    "<h3>Better prediction?</h3>\n",
    "<p>We can see the results of our trained model predicting the data below, but it seems that even if we trained our model perfectly, it still falls short of accurately modeling our data. This is because our data and the function we are trying to approximate is not linear. In order to make our ML model more accurate, we will use Neural Networks with nonlinear transformations/activations.</p>"
   ]
  },
  {
   "cell_type": "code",
   "execution_count": null,
   "metadata": {},
   "outputs": [],
   "source": [
    "results = model.predict(keras_inputs)\n",
    "plt.plot(data['inputs'], results[:,0], 'b-')\n",
    "plt.plot(data['inputs'], data['outputs'], 'ro')\n",
    "plt.show()"
   ]
  }
 ],
 "metadata": {
  "kernelspec": {
   "display_name": "Python 3",
   "language": "python",
   "name": "python3"
  },
  "language_info": {
   "codemirror_mode": {
    "name": "ipython",
    "version": 3
   },
   "file_extension": ".py",
   "mimetype": "text/x-python",
   "name": "python",
   "nbconvert_exporter": "python",
   "pygments_lexer": "ipython3",
   "version": "3.6.8"
  }
 },
 "nbformat": 4,
 "nbformat_minor": 2
}
